{
 "cells": [
  {
   "cell_type": "code",
   "execution_count": 7,
   "id": "2a4ac1e8-9362-4770-a9d9-58a585d66d66",
   "metadata": {},
   "outputs": [],
   "source": [
    "import pandas as pd\n",
    "import numpy as np \n",
    "import matplotlib.pyplot as plt\n",
    "import seaborn as sns\n",
    "%matplotlib inline\n",
    "from scipy import stats\n",
    "from sklearn.preprocessing import LabelEncoder\n",
    "from sklearn.preprocessing import OneHotEncoder\n",
    "from sklearn.impute import SimpleImputer"
   ]
  },
  {
   "cell_type": "code",
   "execution_count": null,
   "id": "467f0743-3eae-4f4d-be2c-e9d2baf81f9d",
   "metadata": {},
   "outputs": [],
   "source": []
  },
  {
   "cell_type": "code",
   "execution_count": 2,
   "id": "ba10c8a7-578d-41f3-9163-fb18fc48ab4f",
   "metadata": {},
   "outputs": [
    {
     "data": {
      "text/html": [
       "<div>\n",
       "<style scoped>\n",
       "    .dataframe tbody tr th:only-of-type {\n",
       "        vertical-align: middle;\n",
       "    }\n",
       "\n",
       "    .dataframe tbody tr th {\n",
       "        vertical-align: top;\n",
       "    }\n",
       "\n",
       "    .dataframe thead th {\n",
       "        text-align: right;\n",
       "    }\n",
       "</style>\n",
       "<table border=\"1\" class=\"dataframe\">\n",
       "  <thead>\n",
       "    <tr style=\"text-align: right;\">\n",
       "      <th></th>\n",
       "      <th>Case_ID</th>\n",
       "      <th>Case_Type</th>\n",
       "      <th>Date</th>\n",
       "      <th>Verdict</th>\n",
       "      <th>Party_1</th>\n",
       "      <th>Party_2</th>\n",
       "    </tr>\n",
       "  </thead>\n",
       "  <tbody>\n",
       "    <tr>\n",
       "      <th>0</th>\n",
       "      <td>3468031.0</td>\n",
       "      <td>civilian,</td>\n",
       "      <td>11/12/2020</td>\n",
       "      <td>3year</td>\n",
       "      <td>Abdullah Saleh</td>\n",
       "      <td>Saleh Mustafa,</td>\n",
       "    </tr>\n",
       "    <tr>\n",
       "      <th>1</th>\n",
       "      <td>87506.0</td>\n",
       "      <td>criminal</td>\n",
       "      <td>21/05/2023</td>\n",
       "      <td>15year</td>\n",
       "      <td>Salma Mohammed</td>\n",
       "      <td>Ahmed Gharib</td>\n",
       "    </tr>\n",
       "    <tr>\n",
       "      <th>2</th>\n",
       "      <td>85220.0</td>\n",
       "      <td>civilian,</td>\n",
       "      <td>13/04/2020</td>\n",
       "      <td>1year</td>\n",
       "      <td>Enas Mufarreh</td>\n",
       "      <td>Amin Mahmoud</td>\n",
       "    </tr>\n",
       "    <tr>\n",
       "      <th>3</th>\n",
       "      <td>5836.0</td>\n",
       "      <td>criminal</td>\n",
       "      <td>09/09/2023</td>\n",
       "      <td>innocence</td>\n",
       "      <td>Samah Ahmado</td>\n",
       "      <td>Aida Amin</td>\n",
       "    </tr>\n",
       "    <tr>\n",
       "      <th>4</th>\n",
       "      <td>638930.0</td>\n",
       "      <td>civilian,</td>\n",
       "      <td>04/07/2024</td>\n",
       "      <td>4year</td>\n",
       "      <td>Omnia Salem</td>\n",
       "      <td>Fathia Amin</td>\n",
       "    </tr>\n",
       "    <tr>\n",
       "      <th>5</th>\n",
       "      <td>5832.0</td>\n",
       "      <td>criminal</td>\n",
       "      <td>08/05/2023</td>\n",
       "      <td>3year</td>\n",
       "      <td>Suha Majed</td>\n",
       "      <td>Mamdouh Habib</td>\n",
       "    </tr>\n",
       "    <tr>\n",
       "      <th>6</th>\n",
       "      <td>329.0</td>\n",
       "      <td>civilian,</td>\n",
       "      <td>09/06/2020</td>\n",
       "      <td>7year</td>\n",
       "      <td>Qasim Ismail</td>\n",
       "      <td>Qasim Ahmed</td>\n",
       "    </tr>\n",
       "    <tr>\n",
       "      <th>7</th>\n",
       "      <td>NaN</td>\n",
       "      <td>criminal</td>\n",
       "      <td>08/03/2024</td>\n",
       "      <td>2year</td>\n",
       "      <td>Mohamed Abdullah</td>\n",
       "      <td>Nawal Al-Zoubi</td>\n",
       "    </tr>\n",
       "    <tr>\n",
       "      <th>8</th>\n",
       "      <td>528533.0</td>\n",
       "      <td>civilian,</td>\n",
       "      <td>01/01/2023</td>\n",
       "      <td>innocence</td>\n",
       "      <td>Qasim Amin</td>\n",
       "      <td>Qasim Ahmed</td>\n",
       "    </tr>\n",
       "    <tr>\n",
       "      <th>9</th>\n",
       "      <td>74652.0</td>\n",
       "      <td>civilian,</td>\n",
       "      <td>23/04/2023</td>\n",
       "      <td>5year</td>\n",
       "      <td>Mustafa Hosni</td>\n",
       "      <td>Haifa Ahmed</td>\n",
       "    </tr>\n",
       "  </tbody>\n",
       "</table>\n",
       "</div>"
      ],
      "text/plain": [
       "     Case_ID   Case_Type        Date    Verdict           Party_1  \\\n",
       "0  3468031.0  civilian,   11/12/2020      3year    Abdullah Saleh   \n",
       "1    87506.0    criminal  21/05/2023     15year    Salma Mohammed   \n",
       "2    85220.0  civilian,   13/04/2020      1year     Enas Mufarreh   \n",
       "3     5836.0    criminal  09/09/2023  innocence      Samah Ahmado   \n",
       "4   638930.0  civilian,   04/07/2024      4year       Omnia Salem   \n",
       "5     5832.0    criminal  08/05/2023      3year        Suha Majed   \n",
       "6      329.0  civilian,   09/06/2020      7year     Qasim Ismail    \n",
       "7        NaN    criminal  08/03/2024      2year  Mohamed Abdullah   \n",
       "8   528533.0  civilian,   01/01/2023  innocence        Qasim Amin   \n",
       "9    74652.0  civilian,   23/04/2023      5year     Mustafa Hosni   \n",
       "\n",
       "           Party_2  \n",
       "0   Saleh Mustafa,  \n",
       "1     Ahmed Gharib  \n",
       "2     Amin Mahmoud  \n",
       "3        Aida Amin  \n",
       "4      Fathia Amin  \n",
       "5    Mamdouh Habib  \n",
       "6      Qasim Ahmed  \n",
       "7  Nawal Al-Zoubi   \n",
       "8      Qasim Ahmed  \n",
       "9     Haifa Ahmed   "
      ]
     },
     "execution_count": 2,
     "metadata": {},
     "output_type": "execute_result"
    }
   ],
   "source": [
    "df = pd.read_csv(r\"C:\\Users\\welcome\\Documents\\Book1.csv\")\n",
    "df"
   ]
  },
  {
   "cell_type": "code",
   "execution_count": 3,
   "id": "2f31b450-e004-44f6-9120-1fca02134101",
   "metadata": {},
   "outputs": [
    {
     "data": {
      "text/html": [
       "<div>\n",
       "<style scoped>\n",
       "    .dataframe tbody tr th:only-of-type {\n",
       "        vertical-align: middle;\n",
       "    }\n",
       "\n",
       "    .dataframe tbody tr th {\n",
       "        vertical-align: top;\n",
       "    }\n",
       "\n",
       "    .dataframe thead th {\n",
       "        text-align: right;\n",
       "    }\n",
       "</style>\n",
       "<table border=\"1\" class=\"dataframe\">\n",
       "  <thead>\n",
       "    <tr style=\"text-align: right;\">\n",
       "      <th></th>\n",
       "      <th>Case_ID</th>\n",
       "    </tr>\n",
       "  </thead>\n",
       "  <tbody>\n",
       "    <tr>\n",
       "      <th>count</th>\n",
       "      <td>9.000000e+00</td>\n",
       "    </tr>\n",
       "    <tr>\n",
       "      <th>mean</th>\n",
       "      <td>5.438743e+05</td>\n",
       "    </tr>\n",
       "    <tr>\n",
       "      <th>std</th>\n",
       "      <td>1.122118e+06</td>\n",
       "    </tr>\n",
       "    <tr>\n",
       "      <th>min</th>\n",
       "      <td>3.290000e+02</td>\n",
       "    </tr>\n",
       "    <tr>\n",
       "      <th>25%</th>\n",
       "      <td>5.836000e+03</td>\n",
       "    </tr>\n",
       "    <tr>\n",
       "      <th>50%</th>\n",
       "      <td>8.522000e+04</td>\n",
       "    </tr>\n",
       "    <tr>\n",
       "      <th>75%</th>\n",
       "      <td>5.285330e+05</td>\n",
       "    </tr>\n",
       "    <tr>\n",
       "      <th>max</th>\n",
       "      <td>3.468031e+06</td>\n",
       "    </tr>\n",
       "  </tbody>\n",
       "</table>\n",
       "</div>"
      ],
      "text/plain": [
       "            Case_ID\n",
       "count  9.000000e+00\n",
       "mean   5.438743e+05\n",
       "std    1.122118e+06\n",
       "min    3.290000e+02\n",
       "25%    5.836000e+03\n",
       "50%    8.522000e+04\n",
       "75%    5.285330e+05\n",
       "max    3.468031e+06"
      ]
     },
     "execution_count": 3,
     "metadata": {},
     "output_type": "execute_result"
    }
   ],
   "source": [
    "df.describe()"
   ]
  },
  {
   "cell_type": "code",
   "execution_count": 4,
   "id": "e826faf9-1bda-45a9-ad54-50c16a7fa961",
   "metadata": {},
   "outputs": [
    {
     "name": "stdout",
     "output_type": "stream",
     "text": [
      "<class 'pandas.core.frame.DataFrame'>\n",
      "RangeIndex: 10 entries, 0 to 9\n",
      "Data columns (total 6 columns):\n",
      " #   Column     Non-Null Count  Dtype  \n",
      "---  ------     --------------  -----  \n",
      " 0   Case_ID    9 non-null      float64\n",
      " 1   Case_Type  10 non-null     object \n",
      " 2   Date       10 non-null     object \n",
      " 3   Verdict    10 non-null     object \n",
      " 4   Party_1    10 non-null     object \n",
      " 5   Party_2    10 non-null     object \n",
      "dtypes: float64(1), object(5)\n",
      "memory usage: 612.0+ bytes\n"
     ]
    }
   ],
   "source": [
    "df.info()"
   ]
  },
  {
   "cell_type": "code",
   "execution_count": 5,
   "id": "7b5009f8-3dd0-4425-b33d-70358ac06869",
   "metadata": {},
   "outputs": [
    {
     "data": {
      "text/html": [
       "<div>\n",
       "<style scoped>\n",
       "    .dataframe tbody tr th:only-of-type {\n",
       "        vertical-align: middle;\n",
       "    }\n",
       "\n",
       "    .dataframe tbody tr th {\n",
       "        vertical-align: top;\n",
       "    }\n",
       "\n",
       "    .dataframe thead th {\n",
       "        text-align: right;\n",
       "    }\n",
       "</style>\n",
       "<table border=\"1\" class=\"dataframe\">\n",
       "  <thead>\n",
       "    <tr style=\"text-align: right;\">\n",
       "      <th></th>\n",
       "      <th>Case_ID</th>\n",
       "      <th>Case_Type</th>\n",
       "      <th>Date</th>\n",
       "      <th>Verdict</th>\n",
       "      <th>Party_1</th>\n",
       "      <th>Party_2</th>\n",
       "    </tr>\n",
       "  </thead>\n",
       "  <tbody>\n",
       "    <tr>\n",
       "      <th>0</th>\n",
       "      <td>3468031.0</td>\n",
       "      <td>civilian,</td>\n",
       "      <td>11/12/2020</td>\n",
       "      <td>3year</td>\n",
       "      <td>Abdullah Saleh</td>\n",
       "      <td>Saleh Mustafa,</td>\n",
       "    </tr>\n",
       "    <tr>\n",
       "      <th>1</th>\n",
       "      <td>87506.0</td>\n",
       "      <td>criminal</td>\n",
       "      <td>21/05/2023</td>\n",
       "      <td>15year</td>\n",
       "      <td>Salma Mohammed</td>\n",
       "      <td>Ahmed Gharib</td>\n",
       "    </tr>\n",
       "    <tr>\n",
       "      <th>2</th>\n",
       "      <td>85220.0</td>\n",
       "      <td>civilian,</td>\n",
       "      <td>13/04/2020</td>\n",
       "      <td>1year</td>\n",
       "      <td>Enas Mufarreh</td>\n",
       "      <td>Amin Mahmoud</td>\n",
       "    </tr>\n",
       "    <tr>\n",
       "      <th>3</th>\n",
       "      <td>5836.0</td>\n",
       "      <td>criminal</td>\n",
       "      <td>09/09/2023</td>\n",
       "      <td>innocence</td>\n",
       "      <td>Samah Ahmado</td>\n",
       "      <td>Aida Amin</td>\n",
       "    </tr>\n",
       "    <tr>\n",
       "      <th>4</th>\n",
       "      <td>638930.0</td>\n",
       "      <td>civilian,</td>\n",
       "      <td>04/07/2024</td>\n",
       "      <td>4year</td>\n",
       "      <td>Omnia Salem</td>\n",
       "      <td>Fathia Amin</td>\n",
       "    </tr>\n",
       "  </tbody>\n",
       "</table>\n",
       "</div>"
      ],
      "text/plain": [
       "     Case_ID   Case_Type        Date    Verdict         Party_1  \\\n",
       "0  3468031.0  civilian,   11/12/2020      3year  Abdullah Saleh   \n",
       "1    87506.0    criminal  21/05/2023     15year  Salma Mohammed   \n",
       "2    85220.0  civilian,   13/04/2020      1year   Enas Mufarreh   \n",
       "3     5836.0    criminal  09/09/2023  innocence    Samah Ahmado   \n",
       "4   638930.0  civilian,   04/07/2024      4year     Omnia Salem   \n",
       "\n",
       "          Party_2  \n",
       "0  Saleh Mustafa,  \n",
       "1    Ahmed Gharib  \n",
       "2    Amin Mahmoud  \n",
       "3       Aida Amin  \n",
       "4     Fathia Amin  "
      ]
     },
     "execution_count": 5,
     "metadata": {},
     "output_type": "execute_result"
    }
   ],
   "source": [
    "df.head()"
   ]
  },
  {
   "cell_type": "code",
   "execution_count": 6,
   "id": "678bc91d-324b-4db3-902f-817f6cf7da27",
   "metadata": {},
   "outputs": [
    {
     "data": {
      "text/html": [
       "<div>\n",
       "<style scoped>\n",
       "    .dataframe tbody tr th:only-of-type {\n",
       "        vertical-align: middle;\n",
       "    }\n",
       "\n",
       "    .dataframe tbody tr th {\n",
       "        vertical-align: top;\n",
       "    }\n",
       "\n",
       "    .dataframe thead th {\n",
       "        text-align: right;\n",
       "    }\n",
       "</style>\n",
       "<table border=\"1\" class=\"dataframe\">\n",
       "  <thead>\n",
       "    <tr style=\"text-align: right;\">\n",
       "      <th></th>\n",
       "      <th>Case_ID</th>\n",
       "      <th>Case_Type</th>\n",
       "      <th>Date</th>\n",
       "      <th>Verdict</th>\n",
       "      <th>Party_1</th>\n",
       "      <th>Party_2</th>\n",
       "    </tr>\n",
       "  </thead>\n",
       "  <tbody>\n",
       "    <tr>\n",
       "      <th>5</th>\n",
       "      <td>5832.0</td>\n",
       "      <td>criminal</td>\n",
       "      <td>08/05/2023</td>\n",
       "      <td>3year</td>\n",
       "      <td>Suha Majed</td>\n",
       "      <td>Mamdouh Habib</td>\n",
       "    </tr>\n",
       "    <tr>\n",
       "      <th>6</th>\n",
       "      <td>329.0</td>\n",
       "      <td>civilian,</td>\n",
       "      <td>09/06/2020</td>\n",
       "      <td>7year</td>\n",
       "      <td>Qasim Ismail</td>\n",
       "      <td>Qasim Ahmed</td>\n",
       "    </tr>\n",
       "    <tr>\n",
       "      <th>7</th>\n",
       "      <td>NaN</td>\n",
       "      <td>criminal</td>\n",
       "      <td>08/03/2024</td>\n",
       "      <td>2year</td>\n",
       "      <td>Mohamed Abdullah</td>\n",
       "      <td>Nawal Al-Zoubi</td>\n",
       "    </tr>\n",
       "    <tr>\n",
       "      <th>8</th>\n",
       "      <td>528533.0</td>\n",
       "      <td>civilian,</td>\n",
       "      <td>01/01/2023</td>\n",
       "      <td>innocence</td>\n",
       "      <td>Qasim Amin</td>\n",
       "      <td>Qasim Ahmed</td>\n",
       "    </tr>\n",
       "    <tr>\n",
       "      <th>9</th>\n",
       "      <td>74652.0</td>\n",
       "      <td>civilian,</td>\n",
       "      <td>23/04/2023</td>\n",
       "      <td>5year</td>\n",
       "      <td>Mustafa Hosni</td>\n",
       "      <td>Haifa Ahmed</td>\n",
       "    </tr>\n",
       "  </tbody>\n",
       "</table>\n",
       "</div>"
      ],
      "text/plain": [
       "    Case_ID   Case_Type        Date    Verdict           Party_1  \\\n",
       "5    5832.0    criminal  08/05/2023      3year        Suha Majed   \n",
       "6     329.0  civilian,   09/06/2020      7year     Qasim Ismail    \n",
       "7       NaN    criminal  08/03/2024      2year  Mohamed Abdullah   \n",
       "8  528533.0  civilian,   01/01/2023  innocence        Qasim Amin   \n",
       "9   74652.0  civilian,   23/04/2023      5year     Mustafa Hosni   \n",
       "\n",
       "           Party_2  \n",
       "5    Mamdouh Habib  \n",
       "6      Qasim Ahmed  \n",
       "7  Nawal Al-Zoubi   \n",
       "8      Qasim Ahmed  \n",
       "9     Haifa Ahmed   "
      ]
     },
     "execution_count": 6,
     "metadata": {},
     "output_type": "execute_result"
    }
   ],
   "source": [
    "df.tail()"
   ]
  },
  {
   "cell_type": "code",
   "execution_count": 7,
   "id": "4feb4bb2-50bf-44d7-ab94-a323db5a1729",
   "metadata": {},
   "outputs": [
    {
     "name": "stdout",
     "output_type": "stream",
     "text": [
      "Case_ID      float64\n",
      "Case_Type     object\n",
      "Date          object\n",
      "Verdict       object\n",
      "Party_1       object\n",
      "Party_2       object\n",
      "dtype: object\n"
     ]
    }
   ],
   "source": [
    "print(df.dtypes)"
   ]
  },
  {
   "cell_type": "code",
   "execution_count": 8,
   "id": "7ca35e23-a5af-4378-954b-92a59dec0161",
   "metadata": {},
   "outputs": [],
   "source": [
    "df['Date'] = pd.to_datetime(df['Date'], format='%d/%m/%Y')"
   ]
  },
  {
   "cell_type": "code",
   "execution_count": 9,
   "id": "638bc139-6206-4c15-98e9-c6851787e9b6",
   "metadata": {},
   "outputs": [],
   "source": [
    "df['Date'] = pd.to_datetime(df['Date'], format='%d/%m/%Y', errors='coerce')"
   ]
  },
  {
   "cell_type": "code",
   "execution_count": 10,
   "id": "82f62fea-a53c-4524-9822-b72aa4e35e36",
   "metadata": {},
   "outputs": [
    {
     "data": {
      "text/html": [
       "<div>\n",
       "<style scoped>\n",
       "    .dataframe tbody tr th:only-of-type {\n",
       "        vertical-align: middle;\n",
       "    }\n",
       "\n",
       "    .dataframe tbody tr th {\n",
       "        vertical-align: top;\n",
       "    }\n",
       "\n",
       "    .dataframe thead th {\n",
       "        text-align: right;\n",
       "    }\n",
       "</style>\n",
       "<table border=\"1\" class=\"dataframe\">\n",
       "  <thead>\n",
       "    <tr style=\"text-align: right;\">\n",
       "      <th></th>\n",
       "      <th>Case_ID</th>\n",
       "      <th>Case_Type</th>\n",
       "      <th>Date</th>\n",
       "      <th>Verdict</th>\n",
       "      <th>Party_1</th>\n",
       "      <th>Party_2</th>\n",
       "    </tr>\n",
       "  </thead>\n",
       "  <tbody>\n",
       "    <tr>\n",
       "      <th>0</th>\n",
       "      <td>3468031.0</td>\n",
       "      <td>civilian,</td>\n",
       "      <td>2020-12-11</td>\n",
       "      <td>3year</td>\n",
       "      <td>Abdullah Saleh</td>\n",
       "      <td>Saleh Mustafa,</td>\n",
       "    </tr>\n",
       "    <tr>\n",
       "      <th>1</th>\n",
       "      <td>87506.0</td>\n",
       "      <td>criminal</td>\n",
       "      <td>2023-05-21</td>\n",
       "      <td>15year</td>\n",
       "      <td>Salma Mohammed</td>\n",
       "      <td>Ahmed Gharib</td>\n",
       "    </tr>\n",
       "    <tr>\n",
       "      <th>2</th>\n",
       "      <td>85220.0</td>\n",
       "      <td>civilian,</td>\n",
       "      <td>2020-04-13</td>\n",
       "      <td>1year</td>\n",
       "      <td>Enas Mufarreh</td>\n",
       "      <td>Amin Mahmoud</td>\n",
       "    </tr>\n",
       "    <tr>\n",
       "      <th>3</th>\n",
       "      <td>5836.0</td>\n",
       "      <td>criminal</td>\n",
       "      <td>2023-09-09</td>\n",
       "      <td>innocence</td>\n",
       "      <td>Samah Ahmado</td>\n",
       "      <td>Aida Amin</td>\n",
       "    </tr>\n",
       "    <tr>\n",
       "      <th>4</th>\n",
       "      <td>638930.0</td>\n",
       "      <td>civilian,</td>\n",
       "      <td>2024-07-04</td>\n",
       "      <td>4year</td>\n",
       "      <td>Omnia Salem</td>\n",
       "      <td>Fathia Amin</td>\n",
       "    </tr>\n",
       "    <tr>\n",
       "      <th>5</th>\n",
       "      <td>5832.0</td>\n",
       "      <td>criminal</td>\n",
       "      <td>2023-05-08</td>\n",
       "      <td>3year</td>\n",
       "      <td>Suha Majed</td>\n",
       "      <td>Mamdouh Habib</td>\n",
       "    </tr>\n",
       "    <tr>\n",
       "      <th>6</th>\n",
       "      <td>329.0</td>\n",
       "      <td>civilian,</td>\n",
       "      <td>2020-06-09</td>\n",
       "      <td>7year</td>\n",
       "      <td>Qasim Ismail</td>\n",
       "      <td>Qasim Ahmed</td>\n",
       "    </tr>\n",
       "    <tr>\n",
       "      <th>7</th>\n",
       "      <td>NaN</td>\n",
       "      <td>criminal</td>\n",
       "      <td>2024-03-08</td>\n",
       "      <td>2year</td>\n",
       "      <td>Mohamed Abdullah</td>\n",
       "      <td>Nawal Al-Zoubi</td>\n",
       "    </tr>\n",
       "    <tr>\n",
       "      <th>8</th>\n",
       "      <td>528533.0</td>\n",
       "      <td>civilian,</td>\n",
       "      <td>2023-01-01</td>\n",
       "      <td>innocence</td>\n",
       "      <td>Qasim Amin</td>\n",
       "      <td>Qasim Ahmed</td>\n",
       "    </tr>\n",
       "    <tr>\n",
       "      <th>9</th>\n",
       "      <td>74652.0</td>\n",
       "      <td>civilian,</td>\n",
       "      <td>2023-04-23</td>\n",
       "      <td>5year</td>\n",
       "      <td>Mustafa Hosni</td>\n",
       "      <td>Haifa Ahmed</td>\n",
       "    </tr>\n",
       "  </tbody>\n",
       "</table>\n",
       "</div>"
      ],
      "text/plain": [
       "     Case_ID   Case_Type       Date    Verdict           Party_1  \\\n",
       "0  3468031.0  civilian,  2020-12-11      3year    Abdullah Saleh   \n",
       "1    87506.0    criminal 2023-05-21     15year    Salma Mohammed   \n",
       "2    85220.0  civilian,  2020-04-13      1year     Enas Mufarreh   \n",
       "3     5836.0    criminal 2023-09-09  innocence      Samah Ahmado   \n",
       "4   638930.0  civilian,  2024-07-04      4year       Omnia Salem   \n",
       "5     5832.0    criminal 2023-05-08      3year        Suha Majed   \n",
       "6      329.0  civilian,  2020-06-09      7year     Qasim Ismail    \n",
       "7        NaN    criminal 2024-03-08      2year  Mohamed Abdullah   \n",
       "8   528533.0  civilian,  2023-01-01  innocence        Qasim Amin   \n",
       "9    74652.0  civilian,  2023-04-23      5year     Mustafa Hosni   \n",
       "\n",
       "           Party_2  \n",
       "0   Saleh Mustafa,  \n",
       "1     Ahmed Gharib  \n",
       "2     Amin Mahmoud  \n",
       "3        Aida Amin  \n",
       "4      Fathia Amin  \n",
       "5    Mamdouh Habib  \n",
       "6      Qasim Ahmed  \n",
       "7  Nawal Al-Zoubi   \n",
       "8      Qasim Ahmed  \n",
       "9     Haifa Ahmed   "
      ]
     },
     "execution_count": 10,
     "metadata": {},
     "output_type": "execute_result"
    }
   ],
   "source": [
    "df"
   ]
  },
  {
   "cell_type": "code",
   "execution_count": 11,
   "id": "98eb1f52-d188-41b1-9f93-68d745005694",
   "metadata": {},
   "outputs": [],
   "source": [
    "df.dropna(inplace=True)"
   ]
  },
  {
   "cell_type": "code",
   "execution_count": 12,
   "id": "99af12a4-c73d-47be-b21a-9e655139ca7b",
   "metadata": {},
   "outputs": [],
   "source": [
    "df['Case_Type'] = df['Case_Type'].str.replace(',', '')"
   ]
  },
  {
   "cell_type": "code",
   "execution_count": 13,
   "id": "f4d0528b-68a4-45f0-a8ff-df1b43f0c802",
   "metadata": {},
   "outputs": [],
   "source": [
    "df['Verdict'] = df['Verdict'].apply(lambda x: 0 if x == 'innocence' else int(x.replace('year', '')))"
   ]
  },
  {
   "cell_type": "code",
   "execution_count": 14,
   "id": "6b391dcd-edc4-46a2-ac43-ef6482be17b8",
   "metadata": {},
   "outputs": [],
   "source": [
    "df['Date'] = pd.to_datetime(df['Date'])"
   ]
  },
  {
   "cell_type": "code",
   "execution_count": 15,
   "id": "dd20f682-2e61-40b4-bee0-6351bd64b2a7",
   "metadata": {},
   "outputs": [
    {
     "name": "stdout",
     "output_type": "stream",
     "text": [
      "Case_Type\n",
      "civilian     6\n",
      "criminal     3\n",
      "Name: count, dtype: int64\n"
     ]
    }
   ],
   "source": [
    "case_type_counts = df['Case_Type'].value_counts()\n",
    "print(case_type_counts)"
   ]
  },
  {
   "cell_type": "code",
   "execution_count": 16,
   "id": "3fead6d0-fcef-4202-90dd-0720ab6e57be",
   "metadata": {},
   "outputs": [
    {
     "name": "stdout",
     "output_type": "stream",
     "text": [
      "Average Verdict: 4.222222222222222 years\n"
     ]
    }
   ],
   "source": [
    "average_verdict = df['Verdict'].mean()\n",
    "print(f\"Average Verdict: {average_verdict} years\")"
   ]
  },
  {
   "cell_type": "code",
   "execution_count": 17,
   "id": "7da41547-ed08-4872-9670-3812281febb7",
   "metadata": {},
   "outputs": [
    {
     "name": "stdout",
     "output_type": "stream",
     "text": [
      "Year\n",
      "2020    3\n",
      "2023    5\n",
      "2024    1\n",
      "Name: count, dtype: int64\n"
     ]
    }
   ],
   "source": [
    "df['Year'] = df['Date'].dt.year\n",
    "cases_per_year = df['Year'].value_counts().sort_index()\n",
    "print(cases_per_year)"
   ]
  },
  {
   "cell_type": "code",
   "execution_count": 18,
   "id": "f079db7f-fb64-4606-974f-decf2b8be995",
   "metadata": {},
   "outputs": [
    {
     "data": {
      "image/png": "[encoded data removed]",
      "text/plain": [
       "<Figure size 640x480 with 1 Axes>"
      ]
     },
     "metadata": {},
     "output_type": "display_data"
    }
   ],
   "source": [
    "import matplotlib.pyplot as plt\n",
    "import seaborn as sns\n",
    "\n",
    "sns.countplot(x='Case_Type', data=df)\n",
    "plt.title('Number of Cases by Type')\n",
    "plt.xlabel('Case Type')\n",
    "plt.ylabel('Count')\n",
    "plt.show()"
   ]
  },
  {
   "cell_type": "code",
   "execution_count": 19,
   "id": "c873f0ba-601d-4ea6-8ccf-db82f92db097",
   "metadata": {},
   "outputs": [
    {
     "data": {
      "image/png": "[encoded data removed]",
      "text/plain": [
       "<Figure size 640x480 with 1 Axes>"
      ]
     },
     "metadata": {},
     "output_type": "display_data"
    }
   ],
   "source": [
    "sns.histplot(df['Verdict'], bins=10, kde=True)\n",
    "plt.title('Distribution of Verdicts')\n",
    "plt.xlabel('Verdict (Years)')\n",
    "plt.ylabel('Frequency')\n",
    "plt.show()"
   ]
  },
  {
   "cell_type": "code",
   "execution_count": 20,
   "id": "1274ea1f-ddfb-4a71-9647-bca939ce1fb5",
   "metadata": {},
   "outputs": [
    {
     "data": {
      "image/png": "[encoded data removed]",
      "text/plain": [
       "<Figure size 640x480 with 1 Axes>"
      ]
     },
     "metadata": {},
     "output_type": "display_data"
    }
   ],
   "source": [
    "sns.lineplot(x=cases_per_year.index, y=cases_per_year.values)\n",
    "plt.title('Number of Cases Per Year')\n",
    "plt.xlabel('Year')\n",
    "plt.ylabel('Number of Cases')\n",
    "plt.show()"
   ]
  },
  {
   "cell_type": "code",
   "execution_count": 21,
   "id": "e4aa55d7-573b-43ac-86d4-8f200dff3c4e",
   "metadata": {},
   "outputs": [
    {
     "name": "stdout",
     "output_type": "stream",
     "text": [
      "[('Qasim Ahmed', 2), ('Abdullah Saleh', 1), ('Salma Mohammed', 1), ('Enas Mufarreh', 1), ('Samah Ahmado', 1)]\n"
     ]
    }
   ],
   "source": [
    "from collections import Counter\n",
    "\n",
    "parties = list(df['Party_1']) + list(df['Party_2'])\n",
    "party_counts = Counter(parties)\n",
    "print(party_counts.most_common(5))  # أكثر 5 أطراف تكرارًا"
   ]
  },
  {
   "cell_type": "code",
   "execution_count": 22,
   "id": "bffb6faa-a9db-472b-9dab-1ccab3a042bd",
   "metadata": {},
   "outputs": [
    {
     "name": "stdout",
     "output_type": "stream",
     "text": [
      "Case_Type\n",
      "civilian     3.333333\n",
      "criminal     6.000000\n",
      "Name: Verdict, dtype: float64\n"
     ]
    }
   ],
   "source": [
    "verdict_by_type = df.groupby('Case_Type')['Verdict'].mean()\n",
    "print(verdict_by_type)"
   ]
  },
  {
   "cell_type": "code",
   "execution_count": 23,
   "id": "fec874ab-6b7d-474e-af82-d8236d0f7bfd",
   "metadata": {},
   "outputs": [
    {
     "name": "stdout",
     "output_type": "stream",
     "text": [
      "Most Active Parties:\n",
      "Qasim Ahmed: 2 cases\n",
      "Abdullah Saleh: 1 cases\n",
      "Salma Mohammed: 1 cases\n",
      "Enas Mufarreh: 1 cases\n",
      "Samah Ahmado: 1 cases\n"
     ]
    }
   ],
   "source": [
    "from collections import Counter\n",
    "\n",
    "# جمع الأطراف\n",
    "parties = list(df['Party_1']) + list(df['Party_2'])\n",
    "\n",
    "# حساب التكرارات\n",
    "party_counts = Counter(parties)\n",
    "\n",
    "# أكثر 5 أطراف نشاطًا\n",
    "most_active_parties = party_counts.most_common(5)\n",
    "print(\"Most Active Parties:\")\n",
    "for party, count in most_active_parties:\n",
    "    print(f\"{party}: {count} cases\")"
   ]
  },
  {
   "cell_type": "code",
   "execution_count": 28,
   "id": "7d3fc136-5c66-4a65-8768-f5c9d46de48a",
   "metadata": {},
   "outputs": [
    {
     "data": {
      "text/html": [
       "<div>\n",
       "<style scoped>\n",
       "    .dataframe tbody tr th:only-of-type {\n",
       "        vertical-align: middle;\n",
       "    }\n",
       "\n",
       "    .dataframe tbody tr th {\n",
       "        vertical-align: top;\n",
       "    }\n",
       "\n",
       "    .dataframe thead th {\n",
       "        text-align: right;\n",
       "    }\n",
       "</style>\n",
       "<table border=\"1\" class=\"dataframe\">\n",
       "  <thead>\n",
       "    <tr style=\"text-align: right;\">\n",
       "      <th></th>\n",
       "      <th>Case_ID</th>\n",
       "      <th>Case_Type</th>\n",
       "      <th>Date</th>\n",
       "      <th>Verdict</th>\n",
       "      <th>Party_1</th>\n",
       "      <th>Party_2</th>\n",
       "    </tr>\n",
       "  </thead>\n",
       "  <tbody>\n",
       "    <tr>\n",
       "      <th>0</th>\n",
       "      <td>3468031.0</td>\n",
       "      <td>civilian,</td>\n",
       "      <td>11/12/2020</td>\n",
       "      <td>3</td>\n",
       "      <td>Abdullah Saleh</td>\n",
       "      <td>Saleh Mustafa,</td>\n",
       "    </tr>\n",
       "    <tr>\n",
       "      <th>1</th>\n",
       "      <td>87506.0</td>\n",
       "      <td>1</td>\n",
       "      <td>21/05/2023</td>\n",
       "      <td>15</td>\n",
       "      <td>Salma Mohammed</td>\n",
       "      <td>Ahmed Gharib</td>\n",
       "    </tr>\n",
       "    <tr>\n",
       "      <th>2</th>\n",
       "      <td>85220.0</td>\n",
       "      <td>civilian,</td>\n",
       "      <td>13/04/2020</td>\n",
       "      <td>1</td>\n",
       "      <td>Enas Mufarreh</td>\n",
       "      <td>Amin Mahmoud</td>\n",
       "    </tr>\n",
       "    <tr>\n",
       "      <th>3</th>\n",
       "      <td>5836.0</td>\n",
       "      <td>1</td>\n",
       "      <td>09/09/2023</td>\n",
       "      <td>0</td>\n",
       "      <td>Samah Ahmado</td>\n",
       "      <td>Aida Amin</td>\n",
       "    </tr>\n",
       "    <tr>\n",
       "      <th>4</th>\n",
       "      <td>638930.0</td>\n",
       "      <td>civilian,</td>\n",
       "      <td>04/07/2024</td>\n",
       "      <td>4</td>\n",
       "      <td>Omnia Salem</td>\n",
       "      <td>Fathia Amin</td>\n",
       "    </tr>\n",
       "    <tr>\n",
       "      <th>5</th>\n",
       "      <td>5832.0</td>\n",
       "      <td>1</td>\n",
       "      <td>08/05/2023</td>\n",
       "      <td>3</td>\n",
       "      <td>Suha Majed</td>\n",
       "      <td>Mamdouh Habib</td>\n",
       "    </tr>\n",
       "    <tr>\n",
       "      <th>6</th>\n",
       "      <td>329.0</td>\n",
       "      <td>civilian,</td>\n",
       "      <td>09/06/2020</td>\n",
       "      <td>7</td>\n",
       "      <td>Qasim Ismail</td>\n",
       "      <td>Qasim Ahmed</td>\n",
       "    </tr>\n",
       "    <tr>\n",
       "      <th>7</th>\n",
       "      <td>NaN</td>\n",
       "      <td>1</td>\n",
       "      <td>08/03/2024</td>\n",
       "      <td>2</td>\n",
       "      <td>Mohamed Abdullah</td>\n",
       "      <td>Nawal Al-Zoubi</td>\n",
       "    </tr>\n",
       "    <tr>\n",
       "      <th>8</th>\n",
       "      <td>528533.0</td>\n",
       "      <td>civilian,</td>\n",
       "      <td>01/01/2023</td>\n",
       "      <td>0</td>\n",
       "      <td>Qasim Amin</td>\n",
       "      <td>Qasim Ahmed</td>\n",
       "    </tr>\n",
       "    <tr>\n",
       "      <th>9</th>\n",
       "      <td>74652.0</td>\n",
       "      <td>civilian,</td>\n",
       "      <td>23/04/2023</td>\n",
       "      <td>5</td>\n",
       "      <td>Mustafa Hosni</td>\n",
       "      <td>Haifa Ahmed</td>\n",
       "    </tr>\n",
       "  </tbody>\n",
       "</table>\n",
       "</div>"
      ],
      "text/plain": [
       "     Case_ID   Case_Type        Date  Verdict           Party_1  \\\n",
       "0  3468031.0  civilian,   11/12/2020        3    Abdullah Saleh   \n",
       "1    87506.0           1  21/05/2023       15    Salma Mohammed   \n",
       "2    85220.0  civilian,   13/04/2020        1     Enas Mufarreh   \n",
       "3     5836.0           1  09/09/2023        0      Samah Ahmado   \n",
       "4   638930.0  civilian,   04/07/2024        4       Omnia Salem   \n",
       "5     5832.0           1  08/05/2023        3        Suha Majed   \n",
       "6      329.0  civilian,   09/06/2020        7     Qasim Ismail    \n",
       "7        NaN           1  08/03/2024        2  Mohamed Abdullah   \n",
       "8   528533.0  civilian,   01/01/2023        0        Qasim Amin   \n",
       "9    74652.0  civilian,   23/04/2023        5     Mustafa Hosni   \n",
       "\n",
       "           Party_2  \n",
       "0   Saleh Mustafa,  \n",
       "1     Ahmed Gharib  \n",
       "2     Amin Mahmoud  \n",
       "3        Aida Amin  \n",
       "4      Fathia Amin  \n",
       "5    Mamdouh Habib  \n",
       "6      Qasim Ahmed  \n",
       "7  Nawal Al-Zoubi   \n",
       "8      Qasim Ahmed  \n",
       "9     Haifa Ahmed   "
      ]
     },
     "execution_count": 28,
     "metadata": {},
     "output_type": "execute_result"
    }
   ],
   "source": [
    "df"
   ]
  },
  {
   "cell_type": "code",
   "execution_count": 11,
   "id": "fc3fd41c-9fd1-4ae3-99ce-259b61172148",
   "metadata": {},
   "outputs": [
    {
     "name": "stdout",
     "output_type": "stream",
     "text": [
      "Mean Squared Error: 80.0\n",
      "R^2 Score: -0.4222222222222223\n"
     ]
    }
   ],
   "source": [
    "import pandas as pd\n",
    "from sklearn.preprocessing import OneHotEncoder\n",
    "from sklearn.impute import SimpleImputer\n",
    "from sklearn.model_selection import train_test_split\n",
    "from sklearn.tree import DecisionTreeRegressor\n",
    "from sklearn.metrics import mean_squared_error, r2_score\n",
    "\n",
    "# 1. Load the data FIRST\n",
    "df = pd.read_csv(r\"C:\\Users\\welcome\\Documents\\Book1.csv\")  # Replace \"your_data.csv\" with your actual file name\n",
    "\n",
    "# 2. Now you can use df\n",
    "# Data Preprocessing\n",
    "df['Date'] = pd.to_datetime(df['Date'], errors='coerce')\n",
    "df['Year'] = df['Date'].dt.year\n",
    "df['Month'] = df['Date'].dt.month\n",
    "df['Day'] = df['Date'].dt.day\n",
    "\n",
    "imputer = SimpleImputer(strategy='mean')\n",
    "df['Case_ID'] = imputer.fit_transform(df[['Case_ID']])\n",
    "\n",
    "def convert_verdict(verdict):\n",
    "    if verdict == 'innocence':\n",
    "        return 0\n",
    "    try:\n",
    "        return int(verdict.split('year')[0])\n",
    "    except:\n",
    "        return None\n",
    "\n",
    "df['Verdict'] = df['Verdict'].apply(convert_verdict)\n",
    "df.dropna(subset=['Verdict'], inplace=True)\n",
    "\n",
    "X = df[['Year', 'Month', 'Day', 'Case_ID', 'Case_Type']]  # Features\n",
    "y = df['Verdict']  # Target\n",
    "\n",
    "encoder = OneHotEncoder(handle_unknown='ignore', sparse_output=False)\n",
    "encoded_case_type = encoder.fit_transform(X[['Case_Type']])\n",
    "encoded_df = pd.DataFrame(encoded_case_type, columns=encoder.get_feature_names_out(['Case_Type']))\n",
    "X = pd.concat([X, encoded_df], axis=1)\n",
    "X.drop('Case_Type', axis=1, inplace=True)\n",
    "\n",
    "# 3. Train/Test Split (after preprocessing)\n",
    "X_train, X_test, y_train, y_test = train_test_split(X, y, test_size=0.2, random_state=42)\n",
    "\n",
    "# 4. Train Model\n",
    "model = DecisionTreeRegressor()\n",
    "model.fit(X_train, y_train)\n",
    "\n",
    "# 5. Predictions\n",
    "y_pred = model.predict(X_test)\n",
    "\n",
    "# 6. Evaluate\n",
    "mse = mean_squared_error(y_test, y_pred)\n",
    "r2 = r2_score(y_test, y_pred)\n",
    "print(f\"Mean Squared Error: {mse}\")\n",
    "print(f\"R^2 Score: {r2}\")"
   ]
  },
  {
   "cell_type": "code",
   "execution_count": null,
   "id": "634b0573-c08b-443e-a49a-5ae57364cfff",
   "metadata": {},
   "outputs": [],
   "source": []
  }
 ],
 "metadata": {
  "kernelspec": {
   "display_name": "Python 3 (ipykernel)",
   "language": "python",
   "name": "python3"
  },
  "language_info": {
   "codemirror_mode": {
    "name": "ipython",
    "version": 3
   },
   "file_extension": ".py",
   "mimetype": "text/x-python",
   "name": "python",
   "nbconvert_exporter": "python",
   "pygments_lexer": "ipython3",
   "version": "3.12.4"
  }
 },
 "nbformat": 4,
 "nbformat_minor": 5
}
